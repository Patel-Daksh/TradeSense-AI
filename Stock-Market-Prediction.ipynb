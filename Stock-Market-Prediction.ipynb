{
 "cells": [
  {
   "cell_type": "markdown",
   "id": "27c17bbc",
   "metadata": {},
   "source": [
    "# Creating S3 Bucket"
   ]
  },
  {
   "cell_type": "code",
   "execution_count": 2,
   "id": "e75a5cec",
   "metadata": {},
   "outputs": [],
   "source": [
    "import boto3\n",
    "s3 = boto3.resource(\"s3\")"
   ]
  },
  {
   "cell_type": "code",
   "execution_count": 10,
   "id": "2a24eab6",
   "metadata": {},
   "outputs": [
    {
     "name": "stdout",
     "output_type": "stream",
     "text": [
      "s3 bucket has been created successfully\n"
     ]
    }
   ],
   "source": [
    "bucket_name = \"stockpricemarketprediction\"\n",
    "try:\n",
    "    s3.create_bucket(Bucket=bucket_name)\n",
    "    print('s3 bucket has been created successfully')\n",
    "except Exception as e:\n",
    "    print('s3 error: ',e)"
   ]
  },
  {
   "cell_type": "markdown",
   "id": "fef1d1b3",
   "metadata": {},
   "source": [
    "## Creating train and validation csv"
   ]
  },
  {
   "cell_type": "code",
   "execution_count": 12,
   "id": "8bf41cc3",
   "metadata": {},
   "outputs": [
    {
     "name": "stdout",
     "output_type": "stream",
     "text": [
      "Collecting yfinance\n",
      "  Downloading yfinance-0.2.36-py2.py3-none-any.whl.metadata (11 kB)\n",
      "Requirement already satisfied: pandas>=1.3.0 in /home/ec2-user/anaconda3/envs/python3/lib/python3.10/site-packages (from yfinance) (2.1.1)\n",
      "Requirement already satisfied: numpy>=1.16.5 in /home/ec2-user/anaconda3/envs/python3/lib/python3.10/site-packages (from yfinance) (1.22.4)\n",
      "Requirement already satisfied: requests>=2.31 in /home/ec2-user/anaconda3/envs/python3/lib/python3.10/site-packages (from yfinance) (2.31.0)\n",
      "Collecting multitasking>=0.0.7 (from yfinance)\n",
      "  Downloading multitasking-0.0.11-py3-none-any.whl (8.5 kB)\n",
      "Collecting lxml>=4.9.1 (from yfinance)\n",
      "  Downloading lxml-5.1.0-cp310-cp310-manylinux_2_17_x86_64.manylinux2014_x86_64.whl.metadata (3.5 kB)\n",
      "Collecting appdirs>=1.4.4 (from yfinance)\n",
      "  Downloading appdirs-1.4.4-py2.py3-none-any.whl (9.6 kB)\n",
      "Requirement already satisfied: pytz>=2022.5 in /home/ec2-user/anaconda3/envs/python3/lib/python3.10/site-packages (from yfinance) (2023.3.post1)\n",
      "Collecting frozendict>=2.3.4 (from yfinance)\n",
      "  Downloading frozendict-2.4.0-cp310-cp310-manylinux_2_17_x86_64.manylinux2014_x86_64.whl.metadata (23 kB)\n",
      "Collecting peewee>=3.16.2 (from yfinance)\n",
      "  Downloading peewee-3.17.0.tar.gz (2.9 MB)\n",
      "\u001b[2K     \u001b[90m━━━━━━━━━━━━━━━━━━━━━━━━━━━━━━━━━━━━━━━━\u001b[0m \u001b[32m2.9/2.9 MB\u001b[0m \u001b[31m49.7 MB/s\u001b[0m eta \u001b[36m0:00:00\u001b[0m:00:01\u001b[0m\n",
      "\u001b[?25h  Installing build dependencies ... \u001b[?25ldone\n",
      "\u001b[?25h  Getting requirements to build wheel ... \u001b[?25ldone\n",
      "\u001b[?25h  Preparing metadata (pyproject.toml) ... \u001b[?25ldone\n",
      "\u001b[?25hRequirement already satisfied: beautifulsoup4>=4.11.1 in /home/ec2-user/anaconda3/envs/python3/lib/python3.10/site-packages (from yfinance) (4.12.2)\n",
      "Collecting html5lib>=1.1 (from yfinance)\n",
      "  Downloading html5lib-1.1-py2.py3-none-any.whl (112 kB)\n",
      "\u001b[2K     \u001b[90m━━━━━━━━━━━━━━━━━━━━━━━━━━━━━━━━━━━━━━\u001b[0m \u001b[32m112.2/112.2 kB\u001b[0m \u001b[31m19.6 MB/s\u001b[0m eta \u001b[36m0:00:00\u001b[0m\n",
      "\u001b[?25hRequirement already satisfied: soupsieve>1.2 in /home/ec2-user/anaconda3/envs/python3/lib/python3.10/site-packages (from beautifulsoup4>=4.11.1->yfinance) (2.5)\n",
      "Requirement already satisfied: six>=1.9 in /home/ec2-user/anaconda3/envs/python3/lib/python3.10/site-packages (from html5lib>=1.1->yfinance) (1.16.0)\n",
      "Requirement already satisfied: webencodings in /home/ec2-user/anaconda3/envs/python3/lib/python3.10/site-packages (from html5lib>=1.1->yfinance) (0.5.1)\n",
      "Requirement already satisfied: python-dateutil>=2.8.2 in /home/ec2-user/anaconda3/envs/python3/lib/python3.10/site-packages (from pandas>=1.3.0->yfinance) (2.8.2)\n",
      "Requirement already satisfied: tzdata>=2022.1 in /home/ec2-user/anaconda3/envs/python3/lib/python3.10/site-packages (from pandas>=1.3.0->yfinance) (2023.3)\n",
      "Requirement already satisfied: charset-normalizer<4,>=2 in /home/ec2-user/anaconda3/envs/python3/lib/python3.10/site-packages (from requests>=2.31->yfinance) (3.3.1)\n",
      "Requirement already satisfied: idna<4,>=2.5 in /home/ec2-user/anaconda3/envs/python3/lib/python3.10/site-packages (from requests>=2.31->yfinance) (3.4)\n",
      "Requirement already satisfied: urllib3<3,>=1.21.1 in /home/ec2-user/anaconda3/envs/python3/lib/python3.10/site-packages (from requests>=2.31->yfinance) (1.26.18)\n",
      "Requirement already satisfied: certifi>=2017.4.17 in /home/ec2-user/anaconda3/envs/python3/lib/python3.10/site-packages (from requests>=2.31->yfinance) (2023.7.22)\n",
      "Downloading yfinance-0.2.36-py2.py3-none-any.whl (72 kB)\n",
      "\u001b[2K   \u001b[90m━━━━━━━━━━━━━━━━━━━━━━━━━━━━━━━━━━━━━━━━\u001b[0m \u001b[32m72.4/72.4 kB\u001b[0m \u001b[31m11.8 MB/s\u001b[0m eta \u001b[36m0:00:00\u001b[0m\n",
      "\u001b[?25hDownloading frozendict-2.4.0-cp310-cp310-manylinux_2_17_x86_64.manylinux2014_x86_64.whl (116 kB)\n",
      "\u001b[2K   \u001b[90m━━━━━━━━━━━━━━━━━━━━━━━━━━━━━━━━━━━━━━━━\u001b[0m \u001b[32m116.7/116.7 kB\u001b[0m \u001b[31m18.1 MB/s\u001b[0m eta \u001b[36m0:00:00\u001b[0m\n",
      "\u001b[?25hDownloading lxml-5.1.0-cp310-cp310-manylinux_2_17_x86_64.manylinux2014_x86_64.whl (8.0 MB)\n",
      "\u001b[2K   \u001b[90m━━━━━━━━━━━━━━━━━━━━━━━━━━━━━━━━━━━━━━━━\u001b[0m \u001b[32m8.0/8.0 MB\u001b[0m \u001b[31m96.3 MB/s\u001b[0m eta \u001b[36m0:00:00\u001b[0m:00:01\u001b[0m00:01\u001b[0m\n",
      "\u001b[?25hBuilding wheels for collected packages: peewee\n",
      "  Building wheel for peewee (pyproject.toml) ... \u001b[?25ldone\n",
      "\u001b[?25h  Created wheel for peewee: filename=peewee-3.17.0-cp310-cp310-linux_x86_64.whl size=275946 sha256=57a3d8aca352242027009f3d72f66f04bf2b8738b4f1474c5ce1cbcac1d5b40a\n",
      "  Stored in directory: /home/ec2-user/.cache/pip/wheels/c7/70/ad/212867e96e7004265a69c4aa5dcff00a95f547a67ba26e7e76\n",
      "Successfully built peewee\n",
      "Installing collected packages: peewee, multitasking, appdirs, lxml, html5lib, frozendict, yfinance\n",
      "Successfully installed appdirs-1.4.4 frozendict-2.4.0 html5lib-1.1 lxml-5.1.0 multitasking-0.0.11 peewee-3.17.0 yfinance-0.2.36\n"
     ]
    },
    {
     "name": "stderr",
     "output_type": "stream",
     "text": [
      "/home/ec2-user/anaconda3/envs/python3/lib/python3.10/site-packages/pandas/core/computation/expressions.py:21: UserWarning: Pandas requires version '2.8.0' or newer of 'numexpr' (version '2.7.3' currently installed).\n",
      "  from pandas.core.computation.check import NUMEXPR_INSTALLED\n",
      "[*********************100%%**********************]  1 of 1 completed\n"
     ]
    },
    {
     "data": {
      "text/html": [
       "<div>\n",
       "<style scoped>\n",
       "    .dataframe tbody tr th:only-of-type {\n",
       "        vertical-align: middle;\n",
       "    }\n",
       "\n",
       "    .dataframe tbody tr th {\n",
       "        vertical-align: top;\n",
       "    }\n",
       "\n",
       "    .dataframe thead th {\n",
       "        text-align: right;\n",
       "    }\n",
       "</style>\n",
       "<table border=\"1\" class=\"dataframe\">\n",
       "  <thead>\n",
       "    <tr style=\"text-align: right;\">\n",
       "      <th></th>\n",
       "      <th>Date</th>\n",
       "      <th>Open</th>\n",
       "      <th>High</th>\n",
       "      <th>Low</th>\n",
       "      <th>Close</th>\n",
       "      <th>Adj Close</th>\n",
       "      <th>Volume</th>\n",
       "    </tr>\n",
       "  </thead>\n",
       "  <tbody>\n",
       "    <tr>\n",
       "      <th>0</th>\n",
       "      <td>2019-01-02</td>\n",
       "      <td>38.722500</td>\n",
       "      <td>39.712502</td>\n",
       "      <td>38.557499</td>\n",
       "      <td>39.480000</td>\n",
       "      <td>37.893322</td>\n",
       "      <td>148158800</td>\n",
       "    </tr>\n",
       "    <tr>\n",
       "      <th>1</th>\n",
       "      <td>2019-01-03</td>\n",
       "      <td>35.994999</td>\n",
       "      <td>36.430000</td>\n",
       "      <td>35.500000</td>\n",
       "      <td>35.547501</td>\n",
       "      <td>34.118881</td>\n",
       "      <td>365248800</td>\n",
       "    </tr>\n",
       "    <tr>\n",
       "      <th>2</th>\n",
       "      <td>2019-01-04</td>\n",
       "      <td>36.132500</td>\n",
       "      <td>37.137501</td>\n",
       "      <td>35.950001</td>\n",
       "      <td>37.064999</td>\n",
       "      <td>35.575390</td>\n",
       "      <td>234428400</td>\n",
       "    </tr>\n",
       "    <tr>\n",
       "      <th>3</th>\n",
       "      <td>2019-01-07</td>\n",
       "      <td>37.174999</td>\n",
       "      <td>37.207500</td>\n",
       "      <td>36.474998</td>\n",
       "      <td>36.982498</td>\n",
       "      <td>35.496204</td>\n",
       "      <td>219111200</td>\n",
       "    </tr>\n",
       "    <tr>\n",
       "      <th>4</th>\n",
       "      <td>2019-01-08</td>\n",
       "      <td>37.389999</td>\n",
       "      <td>37.955002</td>\n",
       "      <td>37.130001</td>\n",
       "      <td>37.687500</td>\n",
       "      <td>36.172871</td>\n",
       "      <td>164101200</td>\n",
       "    </tr>\n",
       "    <tr>\n",
       "      <th>...</th>\n",
       "      <td>...</td>\n",
       "      <td>...</td>\n",
       "      <td>...</td>\n",
       "      <td>...</td>\n",
       "      <td>...</td>\n",
       "      <td>...</td>\n",
       "      <td>...</td>\n",
       "    </tr>\n",
       "    <tr>\n",
       "      <th>500</th>\n",
       "      <td>2020-12-24</td>\n",
       "      <td>131.320007</td>\n",
       "      <td>133.460007</td>\n",
       "      <td>131.100006</td>\n",
       "      <td>131.970001</td>\n",
       "      <td>129.679733</td>\n",
       "      <td>54930100</td>\n",
       "    </tr>\n",
       "    <tr>\n",
       "      <th>501</th>\n",
       "      <td>2020-12-28</td>\n",
       "      <td>133.990005</td>\n",
       "      <td>137.339996</td>\n",
       "      <td>133.509995</td>\n",
       "      <td>136.690002</td>\n",
       "      <td>134.317810</td>\n",
       "      <td>124486200</td>\n",
       "    </tr>\n",
       "    <tr>\n",
       "      <th>502</th>\n",
       "      <td>2020-12-29</td>\n",
       "      <td>138.050003</td>\n",
       "      <td>138.789993</td>\n",
       "      <td>134.339996</td>\n",
       "      <td>134.869995</td>\n",
       "      <td>132.529373</td>\n",
       "      <td>121047300</td>\n",
       "    </tr>\n",
       "    <tr>\n",
       "      <th>503</th>\n",
       "      <td>2020-12-30</td>\n",
       "      <td>135.580002</td>\n",
       "      <td>135.990005</td>\n",
       "      <td>133.399994</td>\n",
       "      <td>133.720001</td>\n",
       "      <td>131.399368</td>\n",
       "      <td>96452100</td>\n",
       "    </tr>\n",
       "    <tr>\n",
       "      <th>504</th>\n",
       "      <td>2020-12-31</td>\n",
       "      <td>134.080002</td>\n",
       "      <td>134.740005</td>\n",
       "      <td>131.720001</td>\n",
       "      <td>132.690002</td>\n",
       "      <td>130.387253</td>\n",
       "      <td>99116600</td>\n",
       "    </tr>\n",
       "  </tbody>\n",
       "</table>\n",
       "<p>505 rows × 7 columns</p>\n",
       "</div>"
      ],
      "text/plain": [
       "          Date        Open        High         Low       Close   Adj Close  \\\n",
       "0   2019-01-02   38.722500   39.712502   38.557499   39.480000   37.893322   \n",
       "1   2019-01-03   35.994999   36.430000   35.500000   35.547501   34.118881   \n",
       "2   2019-01-04   36.132500   37.137501   35.950001   37.064999   35.575390   \n",
       "3   2019-01-07   37.174999   37.207500   36.474998   36.982498   35.496204   \n",
       "4   2019-01-08   37.389999   37.955002   37.130001   37.687500   36.172871   \n",
       "..         ...         ...         ...         ...         ...         ...   \n",
       "500 2020-12-24  131.320007  133.460007  131.100006  131.970001  129.679733   \n",
       "501 2020-12-28  133.990005  137.339996  133.509995  136.690002  134.317810   \n",
       "502 2020-12-29  138.050003  138.789993  134.339996  134.869995  132.529373   \n",
       "503 2020-12-30  135.580002  135.990005  133.399994  133.720001  131.399368   \n",
       "504 2020-12-31  134.080002  134.740005  131.720001  132.690002  130.387253   \n",
       "\n",
       "        Volume  \n",
       "0    148158800  \n",
       "1    365248800  \n",
       "2    234428400  \n",
       "3    219111200  \n",
       "4    164101200  \n",
       "..         ...  \n",
       "500   54930100  \n",
       "501  124486200  \n",
       "502  121047300  \n",
       "503   96452100  \n",
       "504   99116600  \n",
       "\n",
       "[505 rows x 7 columns]"
      ]
     },
     "execution_count": 12,
     "metadata": {},
     "output_type": "execute_result"
    }
   ],
   "source": [
    "!pip install yfinance\n",
    "\n",
    "import pandas as pd\n",
    "from datetime import datetime\n",
    "import yfinance as yf\n",
    "\n",
    "# initialize parameters\n",
    "start_date = datetime(2019, 1, 1)\n",
    "end_date = datetime(2021, 1, 1)\n",
    "# get the data (FOR APPLE)\n",
    "df_data = yf.download('AAPL', start = start_date, end = end_date)\n",
    "df_data.reset_index(inplace=True)\n",
    "df_data"
   ]
  },
  {
   "cell_type": "markdown",
   "id": "2a9c59ce",
   "metadata": {},
   "source": [
    "## ETL"
   ]
  },
  {
   "cell_type": "code",
   "execution_count": 13,
   "id": "a9c17699",
   "metadata": {},
   "outputs": [],
   "source": [
    "df_data.drop (axis=1, columns = ['Adj Close'], inplace = True)\n",
    "df_data.drop(axis=1, columns = ['Date'], inplace=True)"
   ]
  },
  {
   "cell_type": "code",
   "execution_count": 15,
   "id": "6a4f0196",
   "metadata": {},
   "outputs": [
    {
     "data": {
      "text/html": [
       "<div>\n",
       "<style scoped>\n",
       "    .dataframe tbody tr th:only-of-type {\n",
       "        vertical-align: middle;\n",
       "    }\n",
       "\n",
       "    .dataframe tbody tr th {\n",
       "        vertical-align: top;\n",
       "    }\n",
       "\n",
       "    .dataframe thead th {\n",
       "        text-align: right;\n",
       "    }\n",
       "</style>\n",
       "<table border=\"1\" class=\"dataframe\">\n",
       "  <thead>\n",
       "    <tr style=\"text-align: right;\">\n",
       "      <th></th>\n",
       "      <th>Open</th>\n",
       "      <th>High</th>\n",
       "      <th>Low</th>\n",
       "      <th>Close</th>\n",
       "      <th>Volume</th>\n",
       "    </tr>\n",
       "  </thead>\n",
       "  <tbody>\n",
       "    <tr>\n",
       "      <th>0</th>\n",
       "      <td>38.722500</td>\n",
       "      <td>39.712502</td>\n",
       "      <td>38.557499</td>\n",
       "      <td>39.480000</td>\n",
       "      <td>148158800</td>\n",
       "    </tr>\n",
       "    <tr>\n",
       "      <th>1</th>\n",
       "      <td>35.994999</td>\n",
       "      <td>36.430000</td>\n",
       "      <td>35.500000</td>\n",
       "      <td>35.547501</td>\n",
       "      <td>365248800</td>\n",
       "    </tr>\n",
       "    <tr>\n",
       "      <th>2</th>\n",
       "      <td>36.132500</td>\n",
       "      <td>37.137501</td>\n",
       "      <td>35.950001</td>\n",
       "      <td>37.064999</td>\n",
       "      <td>234428400</td>\n",
       "    </tr>\n",
       "    <tr>\n",
       "      <th>3</th>\n",
       "      <td>37.174999</td>\n",
       "      <td>37.207500</td>\n",
       "      <td>36.474998</td>\n",
       "      <td>36.982498</td>\n",
       "      <td>219111200</td>\n",
       "    </tr>\n",
       "    <tr>\n",
       "      <th>4</th>\n",
       "      <td>37.389999</td>\n",
       "      <td>37.955002</td>\n",
       "      <td>37.130001</td>\n",
       "      <td>37.687500</td>\n",
       "      <td>164101200</td>\n",
       "    </tr>\n",
       "    <tr>\n",
       "      <th>...</th>\n",
       "      <td>...</td>\n",
       "      <td>...</td>\n",
       "      <td>...</td>\n",
       "      <td>...</td>\n",
       "      <td>...</td>\n",
       "    </tr>\n",
       "    <tr>\n",
       "      <th>499</th>\n",
       "      <td>132.160004</td>\n",
       "      <td>132.429993</td>\n",
       "      <td>130.779999</td>\n",
       "      <td>130.960007</td>\n",
       "      <td>88223700</td>\n",
       "    </tr>\n",
       "    <tr>\n",
       "      <th>500</th>\n",
       "      <td>131.320007</td>\n",
       "      <td>133.460007</td>\n",
       "      <td>131.100006</td>\n",
       "      <td>131.970001</td>\n",
       "      <td>54930100</td>\n",
       "    </tr>\n",
       "    <tr>\n",
       "      <th>501</th>\n",
       "      <td>133.990005</td>\n",
       "      <td>137.339996</td>\n",
       "      <td>133.509995</td>\n",
       "      <td>136.690002</td>\n",
       "      <td>124486200</td>\n",
       "    </tr>\n",
       "    <tr>\n",
       "      <th>502</th>\n",
       "      <td>138.050003</td>\n",
       "      <td>138.789993</td>\n",
       "      <td>134.339996</td>\n",
       "      <td>134.869995</td>\n",
       "      <td>121047300</td>\n",
       "    </tr>\n",
       "    <tr>\n",
       "      <th>503</th>\n",
       "      <td>135.580002</td>\n",
       "      <td>135.990005</td>\n",
       "      <td>133.399994</td>\n",
       "      <td>133.720001</td>\n",
       "      <td>96452100</td>\n",
       "    </tr>\n",
       "  </tbody>\n",
       "</table>\n",
       "<p>504 rows × 5 columns</p>\n",
       "</div>"
      ],
      "text/plain": [
       "           Open        High         Low       Close     Volume\n",
       "0     38.722500   39.712502   38.557499   39.480000  148158800\n",
       "1     35.994999   36.430000   35.500000   35.547501  365248800\n",
       "2     36.132500   37.137501   35.950001   37.064999  234428400\n",
       "3     37.174999   37.207500   36.474998   36.982498  219111200\n",
       "4     37.389999   37.955002   37.130001   37.687500  164101200\n",
       "..          ...         ...         ...         ...        ...\n",
       "499  132.160004  132.429993  130.779999  130.960007   88223700\n",
       "500  131.320007  133.460007  131.100006  131.970001   54930100\n",
       "501  133.990005  137.339996  133.509995  136.690002  124486200\n",
       "502  138.050003  138.789993  134.339996  134.869995  121047300\n",
       "503  135.580002  135.990005  133.399994  133.720001   96452100\n",
       "\n",
       "[504 rows x 5 columns]"
      ]
     },
     "execution_count": 15,
     "metadata": {},
     "output_type": "execute_result"
    }
   ],
   "source": [
    "df_data_features = df_data.iloc[:-1 , :]\n",
    "df_data_features"
   ]
  },
  {
   "cell_type": "code",
   "execution_count": 16,
   "id": "69fa0da3",
   "metadata": {},
   "outputs": [
    {
     "data": {
      "text/plain": [
       "1       35.994999\n",
       "2       36.132500\n",
       "3       37.174999\n",
       "4       37.389999\n",
       "5       37.822498\n",
       "          ...    \n",
       "500    131.320007\n",
       "501    133.990005\n",
       "502    138.050003\n",
       "503    135.580002\n",
       "504    134.080002\n",
       "Name: Targets, Length: 504, dtype: float64"
      ]
     },
     "execution_count": 16,
     "metadata": {},
     "output_type": "execute_result"
    }
   ],
   "source": [
    "df_data_targets = df_data.iloc[1:, 0].rename (\"Targets\")\n",
    "df_data_targets"
   ]
  },
  {
   "cell_type": "code",
   "execution_count": 18,
   "id": "eafb3ac3",
   "metadata": {},
   "outputs": [
    {
     "name": "stderr",
     "output_type": "stream",
     "text": [
      "/tmp/ipykernel_8787/3433040288.py:1: SettingWithCopyWarning: \n",
      "A value is trying to be set on a copy of a slice from a DataFrame.\n",
      "Try using .loc[row_indexer,col_indexer] = value instead\n",
      "\n",
      "See the caveats in the documentation: https://pandas.pydata.org/pandas-docs/stable/user_guide/indexing.html#returning-a-view-versus-a-copy\n",
      "  df_data_features['Target'] = list(df_data_targets)\n"
     ]
    },
    {
     "data": {
      "text/html": [
       "<div>\n",
       "<style scoped>\n",
       "    .dataframe tbody tr th:only-of-type {\n",
       "        vertical-align: middle;\n",
       "    }\n",
       "\n",
       "    .dataframe tbody tr th {\n",
       "        vertical-align: top;\n",
       "    }\n",
       "\n",
       "    .dataframe thead th {\n",
       "        text-align: right;\n",
       "    }\n",
       "</style>\n",
       "<table border=\"1\" class=\"dataframe\">\n",
       "  <thead>\n",
       "    <tr style=\"text-align: right;\">\n",
       "      <th></th>\n",
       "      <th>Target</th>\n",
       "      <th>Open</th>\n",
       "      <th>High</th>\n",
       "      <th>Low</th>\n",
       "      <th>Close</th>\n",
       "      <th>Volume</th>\n",
       "    </tr>\n",
       "  </thead>\n",
       "  <tbody>\n",
       "    <tr>\n",
       "      <th>0</th>\n",
       "      <td>35.994999</td>\n",
       "      <td>38.722500</td>\n",
       "      <td>39.712502</td>\n",
       "      <td>38.557499</td>\n",
       "      <td>39.480000</td>\n",
       "      <td>148158800</td>\n",
       "    </tr>\n",
       "    <tr>\n",
       "      <th>1</th>\n",
       "      <td>36.132500</td>\n",
       "      <td>35.994999</td>\n",
       "      <td>36.430000</td>\n",
       "      <td>35.500000</td>\n",
       "      <td>35.547501</td>\n",
       "      <td>365248800</td>\n",
       "    </tr>\n",
       "    <tr>\n",
       "      <th>2</th>\n",
       "      <td>37.174999</td>\n",
       "      <td>36.132500</td>\n",
       "      <td>37.137501</td>\n",
       "      <td>35.950001</td>\n",
       "      <td>37.064999</td>\n",
       "      <td>234428400</td>\n",
       "    </tr>\n",
       "    <tr>\n",
       "      <th>3</th>\n",
       "      <td>37.389999</td>\n",
       "      <td>37.174999</td>\n",
       "      <td>37.207500</td>\n",
       "      <td>36.474998</td>\n",
       "      <td>36.982498</td>\n",
       "      <td>219111200</td>\n",
       "    </tr>\n",
       "    <tr>\n",
       "      <th>4</th>\n",
       "      <td>37.822498</td>\n",
       "      <td>37.389999</td>\n",
       "      <td>37.955002</td>\n",
       "      <td>37.130001</td>\n",
       "      <td>37.687500</td>\n",
       "      <td>164101200</td>\n",
       "    </tr>\n",
       "    <tr>\n",
       "      <th>...</th>\n",
       "      <td>...</td>\n",
       "      <td>...</td>\n",
       "      <td>...</td>\n",
       "      <td>...</td>\n",
       "      <td>...</td>\n",
       "      <td>...</td>\n",
       "    </tr>\n",
       "    <tr>\n",
       "      <th>499</th>\n",
       "      <td>131.320007</td>\n",
       "      <td>132.160004</td>\n",
       "      <td>132.429993</td>\n",
       "      <td>130.779999</td>\n",
       "      <td>130.960007</td>\n",
       "      <td>88223700</td>\n",
       "    </tr>\n",
       "    <tr>\n",
       "      <th>500</th>\n",
       "      <td>133.990005</td>\n",
       "      <td>131.320007</td>\n",
       "      <td>133.460007</td>\n",
       "      <td>131.100006</td>\n",
       "      <td>131.970001</td>\n",
       "      <td>54930100</td>\n",
       "    </tr>\n",
       "    <tr>\n",
       "      <th>501</th>\n",
       "      <td>138.050003</td>\n",
       "      <td>133.990005</td>\n",
       "      <td>137.339996</td>\n",
       "      <td>133.509995</td>\n",
       "      <td>136.690002</td>\n",
       "      <td>124486200</td>\n",
       "    </tr>\n",
       "    <tr>\n",
       "      <th>502</th>\n",
       "      <td>135.580002</td>\n",
       "      <td>138.050003</td>\n",
       "      <td>138.789993</td>\n",
       "      <td>134.339996</td>\n",
       "      <td>134.869995</td>\n",
       "      <td>121047300</td>\n",
       "    </tr>\n",
       "    <tr>\n",
       "      <th>503</th>\n",
       "      <td>134.080002</td>\n",
       "      <td>135.580002</td>\n",
       "      <td>135.990005</td>\n",
       "      <td>133.399994</td>\n",
       "      <td>133.720001</td>\n",
       "      <td>96452100</td>\n",
       "    </tr>\n",
       "  </tbody>\n",
       "</table>\n",
       "<p>504 rows × 6 columns</p>\n",
       "</div>"
      ],
      "text/plain": [
       "         Target        Open        High         Low       Close     Volume\n",
       "0     35.994999   38.722500   39.712502   38.557499   39.480000  148158800\n",
       "1     36.132500   35.994999   36.430000   35.500000   35.547501  365248800\n",
       "2     37.174999   36.132500   37.137501   35.950001   37.064999  234428400\n",
       "3     37.389999   37.174999   37.207500   36.474998   36.982498  219111200\n",
       "4     37.822498   37.389999   37.955002   37.130001   37.687500  164101200\n",
       "..          ...         ...         ...         ...         ...        ...\n",
       "499  131.320007  132.160004  132.429993  130.779999  130.960007   88223700\n",
       "500  133.990005  131.320007  133.460007  131.100006  131.970001   54930100\n",
       "501  138.050003  133.990005  137.339996  133.509995  136.690002  124486200\n",
       "502  135.580002  138.050003  138.789993  134.339996  134.869995  121047300\n",
       "503  134.080002  135.580002  135.990005  133.399994  133.720001   96452100\n",
       "\n",
       "[504 rows x 6 columns]"
      ]
     },
     "execution_count": 18,
     "metadata": {},
     "output_type": "execute_result"
    }
   ],
   "source": [
    "df_data_features['Target'] = list(df_data_targets)\n",
    "\n",
    "first_column = df_data_features.pop('Target')\n",
    "\n",
    "df_data_features.insert(0,'Target', first_column)\n",
    "df_data_final = df_data_features\n",
    "\n",
    "df_data_final"
   ]
  },
  {
   "cell_type": "markdown",
   "id": "96282830",
   "metadata": {},
   "source": [
    "## Train-Test Split"
   ]
  },
  {
   "cell_type": "code",
   "execution_count": 23,
   "id": "7e068dcb",
   "metadata": {},
   "outputs": [
    {
     "data": {
      "text/html": [
       "<div>\n",
       "<style scoped>\n",
       "    .dataframe tbody tr th:only-of-type {\n",
       "        vertical-align: middle;\n",
       "    }\n",
       "\n",
       "    .dataframe tbody tr th {\n",
       "        vertical-align: top;\n",
       "    }\n",
       "\n",
       "    .dataframe thead th {\n",
       "        text-align: right;\n",
       "    }\n",
       "</style>\n",
       "<table border=\"1\" class=\"dataframe\">\n",
       "  <thead>\n",
       "    <tr style=\"text-align: right;\">\n",
       "      <th></th>\n",
       "      <th>Target</th>\n",
       "      <th>Open</th>\n",
       "      <th>High</th>\n",
       "      <th>Low</th>\n",
       "      <th>Close</th>\n",
       "      <th>Volume</th>\n",
       "    </tr>\n",
       "  </thead>\n",
       "  <tbody>\n",
       "    <tr>\n",
       "      <th>404</th>\n",
       "      <td>111.970001</td>\n",
       "      <td>112.599998</td>\n",
       "      <td>113.775002</td>\n",
       "      <td>110.000000</td>\n",
       "      <td>112.727501</td>\n",
       "      <td>212403600</td>\n",
       "    </tr>\n",
       "    <tr>\n",
       "      <th>181</th>\n",
       "      <td>54.737499</td>\n",
       "      <td>55.345001</td>\n",
       "      <td>55.639999</td>\n",
       "      <td>54.367500</td>\n",
       "      <td>54.432499</td>\n",
       "      <td>221652400</td>\n",
       "    </tr>\n",
       "    <tr>\n",
       "      <th>434</th>\n",
       "      <td>111.620003</td>\n",
       "      <td>112.680000</td>\n",
       "      <td>112.860001</td>\n",
       "      <td>109.160004</td>\n",
       "      <td>111.809998</td>\n",
       "      <td>183055400</td>\n",
       "    </tr>\n",
       "    <tr>\n",
       "      <th>331</th>\n",
       "      <td>71.269997</td>\n",
       "      <td>70.449997</td>\n",
       "      <td>71.135002</td>\n",
       "      <td>69.987503</td>\n",
       "      <td>70.792503</td>\n",
       "      <td>117087600</td>\n",
       "    </tr>\n",
       "    <tr>\n",
       "      <th>183</th>\n",
       "      <td>54.637501</td>\n",
       "      <td>55.257500</td>\n",
       "      <td>55.622501</td>\n",
       "      <td>54.297501</td>\n",
       "      <td>54.419998</td>\n",
       "      <td>124763200</td>\n",
       "    </tr>\n",
       "    <tr>\n",
       "      <th>...</th>\n",
       "      <td>...</td>\n",
       "      <td>...</td>\n",
       "      <td>...</td>\n",
       "      <td>...</td>\n",
       "      <td>...</td>\n",
       "      <td>...</td>\n",
       "    </tr>\n",
       "    <tr>\n",
       "      <th>86</th>\n",
       "      <td>50.474998</td>\n",
       "      <td>51.470001</td>\n",
       "      <td>51.855000</td>\n",
       "      <td>50.207500</td>\n",
       "      <td>50.715000</td>\n",
       "      <td>155054800</td>\n",
       "    </tr>\n",
       "    <tr>\n",
       "      <th>212</th>\n",
       "      <td>64.262497</td>\n",
       "      <td>64.332497</td>\n",
       "      <td>64.462502</td>\n",
       "      <td>63.845001</td>\n",
       "      <td>64.375000</td>\n",
       "      <td>103272000</td>\n",
       "    </tr>\n",
       "    <tr>\n",
       "      <th>468</th>\n",
       "      <td>115.550003</td>\n",
       "      <td>120.500000</td>\n",
       "      <td>121.989998</td>\n",
       "      <td>116.050003</td>\n",
       "      <td>116.320000</td>\n",
       "      <td>154515300</td>\n",
       "    </tr>\n",
       "    <tr>\n",
       "      <th>364</th>\n",
       "      <td>83.312500</td>\n",
       "      <td>86.180000</td>\n",
       "      <td>86.949997</td>\n",
       "      <td>83.555000</td>\n",
       "      <td>84.699997</td>\n",
       "      <td>200146000</td>\n",
       "    </tr>\n",
       "    <tr>\n",
       "      <th>340</th>\n",
       "      <td>77.025002</td>\n",
       "      <td>76.410004</td>\n",
       "      <td>77.587502</td>\n",
       "      <td>76.072502</td>\n",
       "      <td>77.532501</td>\n",
       "      <td>133838400</td>\n",
       "    </tr>\n",
       "  </tbody>\n",
       "</table>\n",
       "<p>504 rows × 6 columns</p>\n",
       "</div>"
      ],
      "text/plain": [
       "         Target        Open        High         Low       Close     Volume\n",
       "404  111.970001  112.599998  113.775002  110.000000  112.727501  212403600\n",
       "181   54.737499   55.345001   55.639999   54.367500   54.432499  221652400\n",
       "434  111.620003  112.680000  112.860001  109.160004  111.809998  183055400\n",
       "331   71.269997   70.449997   71.135002   69.987503   70.792503  117087600\n",
       "183   54.637501   55.257500   55.622501   54.297501   54.419998  124763200\n",
       "..          ...         ...         ...         ...         ...        ...\n",
       "86    50.474998   51.470001   51.855000   50.207500   50.715000  155054800\n",
       "212   64.262497   64.332497   64.462502   63.845001   64.375000  103272000\n",
       "468  115.550003  120.500000  121.989998  116.050003  116.320000  154515300\n",
       "364   83.312500   86.180000   86.949997   83.555000   84.699997  200146000\n",
       "340   77.025002   76.410004   77.587502   76.072502   77.532501  133838400\n",
       "\n",
       "[504 rows x 6 columns]"
      ]
     },
     "execution_count": 23,
     "metadata": {},
     "output_type": "execute_result"
    }
   ],
   "source": [
    "import numpy as пр\n",
    "                \n",
    "df_randomized = df_data_final.sample(frac=1,random_state=111)\n",
    "df_randomized\n"
   ]
  },
  {
   "cell_type": "code",
   "execution_count": 29,
   "id": "55b1aff1",
   "metadata": {},
   "outputs": [
    {
     "name": "stdout",
     "output_type": "stream",
     "text": [
      "(403, 6) (101, 6)\n"
     ]
    }
   ],
   "source": [
    "train_data, test_data = df_randomized[:int(0.8*len(df_randomized))], df_randomized[int(0.8*len(df_randomized)):]\n",
    "print(train_data.shape,test_data.shape)"
   ]
  },
  {
   "cell_type": "markdown",
   "id": "f156158d",
   "metadata": {},
   "source": [
    "## Set path and upload data to S3"
   ]
  },
  {
   "cell_type": "code",
   "execution_count": 32,
   "id": "2bc94faf",
   "metadata": {},
   "outputs": [
    {
     "name": "stdout",
     "output_type": "stream",
     "text": [
      "s3://stockpricemarketprediction/xgboost-as-a-built-in-algo/train/train.csv\n",
      "s3://stockpricemarketprediction/xgboost-as-a-built-in-algo/test/test.csv\n"
     ]
    }
   ],
   "source": [
    "import os\n",
    "prefix = 'xgboost-as-a-built-in-algo'\n",
    "\n",
    "train_csv_path = 's3://{}/{}/{}/{}'.format(bucket_name, prefix, 'train', 'train.csv')\n",
    "test_csv_path = 's3://{}/{}/{}/{}'.format(bucket_name, prefix, 'test', 'test.csv')\n",
    "\n",
    "print(train_csv_path)\n",
    "print(test_csv_path)\n"
   ]
  },
  {
   "cell_type": "code",
   "execution_count": 33,
   "id": "482057af",
   "metadata": {},
   "outputs": [
    {
     "name": "stderr",
     "output_type": "stream",
     "text": [
      "/home/ec2-user/anaconda3/envs/python3/lib/python3.10/site-packages/fsspec/registry.py:272: UserWarning: Your installed version of s3fs is very old and known to cause\n",
      "severe performance issues, see also https://github.com/dask/dask/issues/10276\n",
      "\n",
      "To fix, you should specify a lower version bound on s3fs, or\n",
      "update the current installation.\n",
      "\n",
      "  warnings.warn(s3_msg)\n"
     ]
    }
   ],
   "source": [
    "train_data.to_csv(train_csv_path,index=False,header=False)\n",
    "test_data.to_csv(test_csv_path,index=False,header=False)"
   ]
  },
  {
   "cell_type": "markdown",
   "id": "0e49cc96",
   "metadata": {},
   "source": [
    "## Building XGBoost"
   ]
  },
  {
   "cell_type": "code",
   "execution_count": 35,
   "id": "4b89e64f",
   "metadata": {},
   "outputs": [],
   "source": [
    "import sagemaker\n",
    "from sagemaker import image_uris\n",
    "from sagemaker.session import Session\n",
    "from sagemaker.inputs import TrainingInput"
   ]
  },
  {
   "cell_type": "markdown",
   "id": "228e7fde",
   "metadata": {},
   "source": [
    "### Find XGBoost Image URI and Binds and XGBoost Container"
   ]
  },
  {
   "cell_type": "code",
   "execution_count": null,
   "id": "9508d403",
   "metadata": {},
   "outputs": [],
   "source": [
    "xgboost_container = image_uris.retrieve(\"xgboost\", boto3.Session().region_name, \"1.2-2\")\n",
    "display(xgboost_container)"
   ]
  },
  {
   "cell_type": "markdown",
   "id": "3ffcb328",
   "metadata": {},
   "source": [
    "#### Initializing Hyperparameters "
   ]
  },
  {
   "cell_type": "code",
   "execution_count": 38,
   "id": "2d7dea63",
   "metadata": {},
   "outputs": [],
   "source": [
    "hyperparameters = {\n",
    "        \"max_depth\":\"5\",\n",
    "        \"eta\":\"0.2\",\n",
    "        \"gamma\":\"4\",\n",
    "        \"min_child_weight\":\"6\",\n",
    "        \"subsample\":\"0.7\",\n",
    "        \"verbosity\":\"1\",\n",
    "        \"objective\":\"reg:squarederror\",\n",
    "        \"early_stopping_rounds\":10,\n",
    "        \"num_round\":300}"
   ]
  },
  {
   "cell_type": "code",
   "execution_count": null,
   "id": "d69fdd04",
   "metadata": {},
   "outputs": [],
   "source": [
    "output_path = 's3://{}/{}/{}/'.format(bucket_name, prefix, 'output')\n",
    "print(output_path)"
   ]
  },
  {
   "cell_type": "markdown",
   "id": "a07200fa",
   "metadata": {},
   "source": [
    "### Constructing a SageMaker estimator that calls the xgboost-container"
   ]
  },
  {
   "cell_type": "code",
   "execution_count": 40,
   "id": "85acc625",
   "metadata": {},
   "outputs": [],
   "source": [
    "# construct a SageMaker estimator that calls the xgboost-container\n",
    "estimator = sagemaker.estimator.Estimator(image_uri=xgboost_container, \n",
    "                                          hyperparameters=hyperparameters,\n",
    "                                          role=sagemaker.get_execution_role(),#IAMROLE\n",
    "                                          instance_count=1, \n",
    "                                          instance_type='ml.m4.xlarge', \n",
    "                                          volume_size=5, # 5 GB \n",
    "                                          output_path=output_path,\n",
    "                                         use_spot_instances=True,\n",
    "                                         max_run=300,\n",
    "                                         max_wait=600)"
   ]
  },
  {
   "cell_type": "markdown",
   "id": "5b2521b1",
   "metadata": {},
   "source": [
    "Providing Paths to Training and Validation Datasets"
   ]
  },
  {
   "cell_type": "code",
   "execution_count": 41,
   "id": "8726bb32",
   "metadata": {},
   "outputs": [],
   "source": [
    "content_type = \"csv\"\n",
    "train_input = TrainingInput(\"s3://{}/{}/{}/\".format (bucket_name, prefix, 'train'), content_type=content_type)\n",
    "test_input = TrainingInput(\"s3://{}/{}/{}/\".format(bucket_name, prefix, 'test'), content_type=content_type)\n"
   ]
  },
  {
   "cell_type": "code",
   "execution_count": 44,
   "id": "8a644d13",
   "metadata": {},
   "outputs": [
    {
     "data": {
      "text/plain": [
       "<sagemaker.inputs.TrainingInput at 0x7f5da953d750>"
      ]
     },
     "execution_count": 44,
     "metadata": {},
     "output_type": "execute_result"
    }
   ],
   "source": [
    "train_input"
   ]
  },
  {
   "cell_type": "markdown",
   "id": "c09d144b",
   "metadata": {},
   "source": [
    "### Training "
   ]
  },
  {
   "cell_type": "code",
   "execution_count": 45,
   "id": "45746376",
   "metadata": {},
   "outputs": [
    {
     "name": "stderr",
     "output_type": "stream",
     "text": [
      "INFO:sagemaker:Creating training-job with name: sagemaker-xgboost-2024-02-03-21-48-08-805\n"
     ]
    },
    {
     "name": "stdout",
     "output_type": "stream",
     "text": [
      "2024-02-03 21:48:08 Starting - Starting the training job...\n",
      "2024-02-03 21:48:25 Starting - Preparing the instances for training.........\n",
      "2024-02-03 21:49:46 Downloading - Downloading input data...\n",
      "2024-02-03 21:50:16 Downloading - Downloading the training image...\n",
      "2024-02-03 21:51:07 Training - Training image download completed. Training in progress....\n",
      "2024-02-03 21:51:27 Uploading - Uploading generated training model\u001b[34m[2024-02-03 21:51:23.174 ip-10-2-228-177.ec2.internal:7 INFO utils.py:27] RULE_JOB_STOP_SIGNAL_FILENAME: None\u001b[0m\n",
      "\u001b[34m[2024-02-03:21:51:23:INFO] Imported framework sagemaker_xgboost_container.training\u001b[0m\n",
      "\u001b[34m[2024-02-03:21:51:23:INFO] Failed to parse hyperparameter objective value reg:squarederror to Json.\u001b[0m\n",
      "\u001b[34mReturning the value itself\u001b[0m\n",
      "\u001b[34m[2024-02-03:21:51:23:INFO] No GPUs detected (normal if no gpus installed)\u001b[0m\n",
      "\u001b[34m[2024-02-03:21:51:23:INFO] Running XGBoost Sagemaker in algorithm mode\u001b[0m\n",
      "\u001b[34m[2024-02-03:21:51:23:INFO] Determined delimiter of CSV input is ','\u001b[0m\n",
      "\u001b[34m[2024-02-03:21:51:23:INFO] Determined delimiter of CSV input is ','\u001b[0m\n",
      "\u001b[34m[2024-02-03:21:51:23:INFO] Determined delimiter of CSV input is ','\u001b[0m\n",
      "\u001b[34m[2024-02-03:21:51:23:INFO] Determined delimiter of CSV input is ','\u001b[0m\n",
      "\u001b[34m[2024-02-03:21:51:23:INFO] Single node training.\u001b[0m\n",
      "\u001b[34m[2024-02-03:21:51:23:INFO] Train matrix has 403 rows and 5 columns\u001b[0m\n",
      "\u001b[34m[2024-02-03:21:51:23:INFO] Validation matrix has 101 rows\u001b[0m\n",
      "\u001b[34m[2024-02-03 21:51:23.265 ip-10-2-228-177.ec2.internal:7 INFO json_config.py:91] Creating hook from json_config at /opt/ml/input/config/debughookconfig.json.\u001b[0m\n",
      "\u001b[34m[2024-02-03 21:51:23.265 ip-10-2-228-177.ec2.internal:7 INFO hook.py:201] tensorboard_dir has not been set for the hook. SMDebug will not be exporting tensorboard summaries.\u001b[0m\n",
      "\u001b[34m[2024-02-03 21:51:23.266 ip-10-2-228-177.ec2.internal:7 INFO profiler_config_parser.py:102] User has disabled profiler.\u001b[0m\n",
      "\u001b[34m[2024-02-03 21:51:23.266 ip-10-2-228-177.ec2.internal:7 INFO hook.py:255] Saving to /opt/ml/output/tensors\u001b[0m\n",
      "\u001b[34m[2024-02-03 21:51:23.267 ip-10-2-228-177.ec2.internal:7 INFO state_store.py:77] The checkpoint config file /opt/ml/input/config/checkpointconfig.json does not exist.\u001b[0m\n",
      "\u001b[34m[2024-02-03:21:51:23:INFO] Debug hook created from config\u001b[0m\n",
      "\u001b[34m[0]#011train-rmse:62.81034#011validation-rmse:62.99950\u001b[0m\n",
      "\u001b[34m[2024-02-03 21:51:23.270 ip-10-2-228-177.ec2.internal:7 INFO hook.py:423] Monitoring the collections: metrics\u001b[0m\n",
      "\u001b[34m[2024-02-03 21:51:23.272 ip-10-2-228-177.ec2.internal:7 INFO hook.py:486] Hook is writing from the hook with pid: 7\u001b[0m\n",
      "\u001b[34m[1]#011train-rmse:50.58133#011validation-rmse:50.63306\u001b[0m\n",
      "\u001b[34m[2]#011train-rmse:40.71563#011validation-rmse:40.70712\u001b[0m\n",
      "\u001b[34m[3]#011train-rmse:32.78679#011validation-rmse:32.66037\u001b[0m\n",
      "\u001b[34m[4]#011train-rmse:26.38495#011validation-rmse:26.26853\u001b[0m\n",
      "\u001b[34m[5]#011train-rmse:21.34070#011validation-rmse:21.05656\u001b[0m\n",
      "\u001b[34m[6]#011train-rmse:17.20737#011validation-rmse:16.82081\u001b[0m\n",
      "\u001b[34m[7]#011train-rmse:13.91405#011validation-rmse:13.52933\u001b[0m\n",
      "\u001b[34m[8]#011train-rmse:11.26437#011validation-rmse:10.71614\u001b[0m\n",
      "\u001b[34m[9]#011train-rmse:9.19925#011validation-rmse:8.58920\u001b[0m\n",
      "\u001b[34m[10]#011train-rmse:7.50241#011validation-rmse:6.86784\u001b[0m\n",
      "\u001b[34m[11]#011train-rmse:6.12223#011validation-rmse:5.50499\u001b[0m\n",
      "\u001b[34m[12]#011train-rmse:5.00634#011validation-rmse:4.41324\u001b[0m\n",
      "\u001b[34m[13]#011train-rmse:4.13491#011validation-rmse:3.51724\u001b[0m\n",
      "\u001b[34m[14]#011train-rmse:3.43759#011validation-rmse:2.91743\u001b[0m\n",
      "\u001b[34m[15]#011train-rmse:2.89790#011validation-rmse:2.42961\u001b[0m\n",
      "\u001b[34m[16]#011train-rmse:2.48053#011validation-rmse:2.09358\u001b[0m\n",
      "\u001b[34m[17]#011train-rmse:2.13409#011validation-rmse:1.87264\u001b[0m\n",
      "\u001b[34m[18]#011train-rmse:1.87381#011validation-rmse:1.74831\u001b[0m\n",
      "\u001b[34m[19]#011train-rmse:1.66932#011validation-rmse:1.65317\u001b[0m\n",
      "\u001b[34m[20]#011train-rmse:1.52178#011validation-rmse:1.60026\u001b[0m\n",
      "\u001b[34m[21]#011train-rmse:1.39129#011validation-rmse:1.56667\u001b[0m\n",
      "\u001b[34m[22]#011train-rmse:1.31055#011validation-rmse:1.56362\u001b[0m\n",
      "\u001b[34m[23]#011train-rmse:1.24385#011validation-rmse:1.58827\u001b[0m\n",
      "\u001b[34m[24]#011train-rmse:1.19975#011validation-rmse:1.58301\u001b[0m\n",
      "\u001b[34m[25]#011train-rmse:1.16164#011validation-rmse:1.60851\u001b[0m\n",
      "\u001b[34m[26]#011train-rmse:1.14034#011validation-rmse:1.60873\u001b[0m\n",
      "\u001b[34m[27]#011train-rmse:1.10398#011validation-rmse:1.65537\u001b[0m\n",
      "\u001b[34m[28]#011train-rmse:1.08688#011validation-rmse:1.64952\u001b[0m\n",
      "\u001b[34m[29]#011train-rmse:1.07172#011validation-rmse:1.67083\u001b[0m\n",
      "\u001b[34m[30]#011train-rmse:1.04721#011validation-rmse:1.69693\u001b[0m\n",
      "\u001b[34m[31]#011train-rmse:1.03285#011validation-rmse:1.70427\u001b[0m\n",
      "\u001b[34m[32]#011train-rmse:1.01528#011validation-rmse:1.69793\u001b[0m\n",
      "\n",
      "2024-02-03 21:51:43 Completed - Training job completed\n",
      "Training seconds: 117\n",
      "Billable seconds: 59\n",
      "Managed Spot Training savings: 49.6%\n"
     ]
    }
   ],
   "source": [
    "estimator.fit({'train': train_input, 'validation' : test_input})"
   ]
  },
  {
   "cell_type": "markdown",
   "id": "a316b3c0",
   "metadata": {},
   "source": [
    "### Deploy Trained XGB Model as EndPoint"
   ]
  },
  {
   "cell_type": "markdown",
   "id": "75f2a448",
   "metadata": {},
   "source": [
    "We will be invoking the endpoint using API , we can also do it with S3. Our datatype will be JSON , For S3 we can use CSV."
   ]
  },
  {
   "cell_type": "code",
   "execution_count": 47,
   "id": "b5774685",
   "metadata": {},
   "outputs": [
    {
     "name": "stderr",
     "output_type": "stream",
     "text": [
      "INFO:sagemaker:Creating model with name: sagemaker-xgboost-2024-02-04-00-31-20-989\n",
      "INFO:sagemaker:Creating endpoint-config with name sagemaker-xgboost-2024-02-04-00-31-20-989\n",
      "INFO:sagemaker:Creating endpoint with name sagemaker-xgboost-2024-02-04-00-31-20-989\n"
     ]
    },
    {
     "name": "stdout",
     "output_type": "stream",
     "text": [
      "------!"
     ]
    }
   ],
   "source": [
    "from sagemaker. serializers import CSVSerializer\n",
    "xgb_predictor = estimator.deploy(initial_instance_count=1, instance_type='ml.m4.xlarge', serializer=CSVSerializer())"
   ]
  },
  {
   "cell_type": "code",
   "execution_count": null,
   "id": "f0b92198",
   "metadata": {},
   "outputs": [],
   "source": [
    "xgb_predictor.endpoint_name"
   ]
  },
  {
   "cell_type": "markdown",
   "id": "bb63e2fe",
   "metadata": {},
   "source": [
    "## Make Predictions Using Endpoint"
   ]
  },
  {
   "cell_type": "code",
   "execution_count": 67,
   "id": "fe8814c3",
   "metadata": {},
   "outputs": [
    {
     "name": "stderr",
     "output_type": "stream",
     "text": [
      "[*********************100%%**********************]  1 of 1 completed\n"
     ]
    },
    {
     "data": {
      "text/html": [
       "<div>\n",
       "<style scoped>\n",
       "    .dataframe tbody tr th:only-of-type {\n",
       "        vertical-align: middle;\n",
       "    }\n",
       "\n",
       "    .dataframe tbody tr th {\n",
       "        vertical-align: top;\n",
       "    }\n",
       "\n",
       "    .dataframe thead th {\n",
       "        text-align: right;\n",
       "    }\n",
       "</style>\n",
       "<table border=\"1\" class=\"dataframe\">\n",
       "  <thead>\n",
       "    <tr style=\"text-align: right;\">\n",
       "      <th></th>\n",
       "      <th>Date</th>\n",
       "      <th>Open</th>\n",
       "      <th>High</th>\n",
       "      <th>Low</th>\n",
       "      <th>Close</th>\n",
       "      <th>Adj Close</th>\n",
       "      <th>Volume</th>\n",
       "    </tr>\n",
       "  </thead>\n",
       "  <tbody>\n",
       "    <tr>\n",
       "      <th>0</th>\n",
       "      <td>2021-01-04</td>\n",
       "      <td>133.520004</td>\n",
       "      <td>133.610001</td>\n",
       "      <td>126.760002</td>\n",
       "      <td>129.410004</td>\n",
       "      <td>127.164146</td>\n",
       "      <td>143301900</td>\n",
       "    </tr>\n",
       "  </tbody>\n",
       "</table>\n",
       "</div>"
      ],
      "text/plain": [
       "        Date        Open        High         Low       Close   Adj Close  \\\n",
       "0 2021-01-04  133.520004  133.610001  126.760002  129.410004  127.164146   \n",
       "\n",
       "      Volume  \n",
       "0  143301900  "
      ]
     },
     "execution_count": 67,
     "metadata": {},
     "output_type": "execute_result"
    }
   ],
   "source": [
    "# initialize parameters\n",
    "start_date = datetime(2021, 1, 4)\n",
    "end_date = datetime(2021, 1, 5)\n",
    "# get the data\n",
    "df_data = yf.download('AAPL', start = start_date, end = end_date)\n",
    "df_data.reset_index(inplace=True)\n",
    "df_data\n"
   ]
  },
  {
   "cell_type": "code",
   "execution_count": 68,
   "id": "a69a24c4",
   "metadata": {},
   "outputs": [
    {
     "data": {
      "text/plain": [
       "array([[1.33520004e+02, 1.33610001e+02, 1.26760002e+02, 1.29410004e+02,\n",
       "        1.43301900e+08]])"
      ]
     },
     "execution_count": 68,
     "metadata": {},
     "output_type": "execute_result"
    }
   ],
   "source": [
    "df_data.drop(axis=1, columns = ['Adj Close'], inplace=True)\n",
    "df_data.drop(axis=1, columns = ['Date'], inplace=True)\n",
    "data_features_array = df_data.values\n",
    "data_features_array\n"
   ]
  },
  {
   "cell_type": "markdown",
   "id": "6148e314",
   "metadata": {},
   "source": [
    "## Serialize Data"
   ]
  },
  {
   "cell_type": "markdown",
   "id": "6505fe95",
   "metadata": {},
   "source": [
    "### Inference - Serialized Input By Sagemaker Function"
   ]
  },
  {
   "cell_type": "code",
   "execution_count": 69,
   "id": "67156d1c",
   "metadata": {},
   "outputs": [
    {
     "name": "stdout",
     "output_type": "stream",
     "text": [
      "129.8251495361328\n",
      " <class 'str'>\n"
     ]
    }
   ],
   "source": [
    "Y_pred_Fcn = xgb_predictor.predict(data_features_array).decode('utf-8')\n",
    "print(Y_pred_Fcn,type(Y_pred_Fcn))"
   ]
  },
  {
   "cell_type": "markdown",
   "id": "506f4a7a",
   "metadata": {},
   "source": [
    "### Inference - Serialized Input By Built-in Function (Lamda Function Friendly)"
   ]
  },
  {
   "cell_type": "code",
   "execution_count": 70,
   "id": "b020d7a9",
   "metadata": {},
   "outputs": [
    {
     "name": "stdout",
     "output_type": "stream",
     "text": [
      "133.520004,133.610001,126.760002,129.410004,143301900.0 <class 'str'>\n"
     ]
    }
   ],
   "source": [
    "Input=[[1.33520004e+02, 1.33610001e+02, 1.26760002e+02, 1.29410004e+02,\n",
    "        1.43301900e+08],[1.33520004e+02, 1.33610001e+02, 1.26760002e+02, 1.29410004e+02,\n",
    "        1.43301900e+08], 1.33520004e+02, 1.33610001e+02, 1.26760002e+02, 1.29410004e+02,\n",
    "        1.43301900e+08]]\n",
    "\n",
    "Serialized_Input = ','.join(map(str, Input[0]))\n",
    "print(Serialized_Input,type(Serialized_Input))"
   ]
  },
  {
   "cell_type": "code",
   "execution_count": 71,
   "id": "eba42c76",
   "metadata": {},
   "outputs": [
    {
     "data": {
      "text/plain": [
       "'129.8251495361328\\n'"
      ]
     },
     "execution_count": 71,
     "metadata": {},
     "output_type": "execute_result"
    }
   ],
   "source": [
    "Y_pred= xgb_predictor.predict(Serialized_Input).decode('utf-8')\n",
    "Y_pred"
   ]
  },
  {
   "cell_type": "markdown",
   "id": "d19f9fb9",
   "metadata": {},
   "source": [
    "# Lamda Function Handler"
   ]
  },
  {
   "cell_type": "code",
   "execution_count": 82,
   "id": "e9ef0575",
   "metadata": {},
   "outputs": [],
   "source": [
    "import boto3\n",
    "\n",
    "ENDPOINT_NAME = 'sagemaker-xgboost-2024-02-04-00-31-20-989'\n",
    "runtime = boto3.client('runtime.sagemaker')\n",
    "email_client = boto3.client('sns')\n",
    "\n",
    "def lambda_handler(event, context):\n",
    "    inputs = event['data']\n",
    "    result = []\n",
    "    \n",
    "    for input in inputs:\n",
    "        serialized_input = ','.join(map(str, input))\n",
    "        response = runtime. invoke_endpoint(EndpointName=ENDPOINT_NAME,\n",
    "                                 ContentType= 'text/csv',\n",
    "                                 Body=serialized_input)\n",
    "    \n",
    "        result.append(response['Body'].read().decode())\n",
    "    \n",
    "#         This Block is used for Sending the Email\n",
    "    response_sns = email_client.publish(\n",
    "        TopicArn = 'Copy-TopicArn-From-SNS-TopicArn',\n",
    "        Message = 'Prediction is '+ str(result),\n",
    "        Subject = 'EMC Finance - Daily Prediction')\n",
    "    \n",
    "    return result"
   ]
  },
  {
   "cell_type": "code",
   "execution_count": 85,
   "id": "8f2e15b4",
   "metadata": {},
   "outputs": [
    {
     "data": {
      "text/plain": [
       "['129.8251495361328\\n', '129.8251495361328\\n', '129.8251495361328\\n']"
      ]
     },
     "execution_count": 85,
     "metadata": {},
     "output_type": "execute_result"
    }
   ],
   "source": [
    "Input_json = {\n",
    "  \"data\": [\n",
    "    [\n",
    "      133.520004,\n",
    "      133.610001,\n",
    "      126.760002,\n",
    "      129.410004,\n",
    "      143301900\n",
    "    ],\n",
    "    [\n",
    "      133.520004,\n",
    "      133.610001,\n",
    "      126.760002,\n",
    "      129.410004,\n",
    "      143301900\n",
    "    ],\n",
    "    [\n",
    "      133.520004,\n",
    "      133.610001,\n",
    "      126.760002,\n",
    "      129.410004,\n",
    "      143301900\n",
    "    ]\n",
    "  ]\n",
    "}\n",
    "result = lambda_handler(Input_json,__)\n",
    "result"
   ]
  },
  {
   "cell_type": "code",
   "execution_count": 88,
   "id": "59a13a3d",
   "metadata": {},
   "outputs": [],
   "source": [
    "#importing the requests library\n",
    "import requests\n",
    "# defining the api-endpoint\n",
    "API_ENDPOINT = \"https://6########5.execute-api.us-east-1.amazonaws.com/XGBoost\"\n",
    "# data to be sent to api\n",
    "json = {\n",
    "    \"data\": [\n",
    "    [\n",
    "      133.520004,\n",
    "      133.610001,\n",
    "      126.760002,\n",
    "      129.410004,\n",
    "      143301900\n",
    "    ]\n",
    "  ]\n",
    "}\n",
    "\n",
    "r = requests.post(url = API_ENDPOINT, json=json)"
   ]
  },
  {
   "cell_type": "code",
   "execution_count": 87,
   "id": "450bc141",
   "metadata": {},
   "outputs": [
    {
     "name": "stdout",
     "output_type": "stream",
     "text": [
      "Status code: 200, Response: <bound method Response.json of <Response [200]>>\n"
     ]
    }
   ],
   "source": [
    "print(f\"Status code: {r.status_code}, Response: {r.json}\")"
   ]
  },
  {
   "cell_type": "markdown",
   "id": "d16bee8c",
   "metadata": {},
   "source": [
    "## Close and Terminate"
   ]
  },
  {
   "cell_type": "code",
   "execution_count": null,
   "id": "fc39b098",
   "metadata": {},
   "outputs": [],
   "source": [
    "sagemaker.Session().delete_endpoint(xgb_predictor.endpoint)"
   ]
  },
  {
   "cell_type": "code",
   "execution_count": null,
   "id": "19926bec",
   "metadata": {},
   "outputs": [],
   "source": [
    "bucket_to_delete = boto3.resource('s3').Bucket(bucket_name)\n",
    "bucket_to_delete.objects.all().delete()"
   ]
  }
 ],
 "metadata": {
  "kernelspec": {
   "display_name": "conda_python3",
   "language": "python",
   "name": "conda_python3"
  },
  "language_info": {
   "codemirror_mode": {
    "name": "ipython",
    "version": 3
   },
   "file_extension": ".py",
   "mimetype": "text/x-python",
   "name": "python",
   "nbconvert_exporter": "python",
   "pygments_lexer": "ipython3",
   "version": "3.10.13"
  }
 },
 "nbformat": 4,
 "nbformat_minor": 5
}
