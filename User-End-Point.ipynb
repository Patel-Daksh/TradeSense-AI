{
 "cells": [
  {
   "cell_type": "code",
   "execution_count": 3,
   "id": "de65424f",
   "metadata": {},
   "outputs": [],
   "source": [
    "#USER END POINT\n",
    "import requests\n",
    "# defining the api-endpoint\n",
    "API_ENDPOINT = \"https://6########5.execute-api.us-east-1.amazonaws.com/XGBoost\"\n",
    "# data to be sent to api \n",
    "# data : [[Open,High,Low,Close,Volume]]\n",
    "json = {\n",
    "    \"data\": [\n",
    "    [\n",
    "      133.520004,\n",
    "      133.610001,\n",
    "      126.760002,\n",
    "      129.410004,\n",
    "      143301900\n",
    "    ]\n",
    "  ]\n",
    "}\n",
    "\n",
    "r = requests.post(url = API_ENDPOINT, json=json)"
   ]
  },
  {
   "cell_type": "code",
   "execution_count": null,
   "id": "722a2468",
   "metadata": {},
   "outputs": [],
   "source": []
  }
 ],
 "metadata": {
  "kernelspec": {
   "display_name": "Python 3 (ipykernel)",
   "language": "python",
   "name": "python3"
  },
  "language_info": {
   "codemirror_mode": {
    "name": "ipython",
    "version": 3
   },
   "file_extension": ".py",
   "mimetype": "text/x-python",
   "name": "python",
   "nbconvert_exporter": "python",
   "pygments_lexer": "ipython3",
   "version": "3.10.9"
  }
 },
 "nbformat": 4,
 "nbformat_minor": 5
}
